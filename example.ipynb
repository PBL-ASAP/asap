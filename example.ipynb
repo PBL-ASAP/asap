{
 "cells": [
  {
   "cell_type": "code",
   "execution_count": 1,
   "metadata": {},
   "outputs": [
    {
     "name": "stdout",
     "output_type": "stream",
     "text": [
      "Matched Videos: ['/Users/j/Documents/ASAP_V/09.mov', '/Users/j/Documents/ASAP_V/08.mov', '/Users/j/Documents/ASAP_V/03.mov', '/Users/j/Documents/ASAP_V/02.mov', '/Users/j/Documents/ASAP_V/06.mov', '/Users/j/Documents/ASAP_V/07.mov', '/Users/j/Documents/ASAP_V/05.mov', '/Users/j/Documents/ASAP_V/04.mov']\n"
     ]
    }
   ],
   "source": [
    "import face_recognition\n",
    "import hashlib\n",
    "import numpy as np\n",
    "import os\n",
    "import cv2\n",
    "\n",
    "def get_face_encodings_from_video(video_path, sample_rate=30):\n",
    "    face_encodings = []\n",
    "    video_capture = cv2.VideoCapture(video_path)\n",
    "    frame_count = 0\n",
    "    while True:\n",
    "        ret, frame = video_capture.read()\n",
    "        if not ret:\n",
    "            break\n",
    "        if frame_count % sample_rate == 0:  # 30프레임마다 한 번씩만 처리\n",
    "            face_locations = face_recognition.face_locations(frame)\n",
    "            for face_location in face_locations:\n",
    "                face_encoding = face_recognition.face_encodings(frame, [face_location])[0]\n",
    "                face_encodings.append(face_encoding)\n",
    "        frame_count += 1\n",
    "    video_capture.release()\n",
    "    return face_encodings\n",
    "\n",
    "def find_matching_videos(directory, face_encodings, tolerance=0.6):\n",
    "    matches = []\n",
    "    for face_encoding_to_match in face_encodings:\n",
    "        for filename in os.listdir(directory):\n",
    "            if filename.endswith(\".mov\"):\n",
    "                video_path = os.path.join(directory, filename)\n",
    "                video_face_encodings = get_face_encodings_from_video(video_path)\n",
    "                for video_face_encoding in video_face_encodings:\n",
    "                    results = face_recognition.compare_faces([video_face_encoding], face_encoding_to_match, tolerance)\n",
    "                    if True in results:\n",
    "                        matches.append(video_path)\n",
    "                        break  # 이미 일치하는 비디오를 찾았으므로 다음 파일로 이동\n",
    "    return matches\n",
    "\n",
    "# 얼굴 인코딩 추출 및 비디오 검색\n",
    "image_path = \"/Users/j/Documents/ASAP_I/your_image.jpg\"\n",
    "image = face_recognition.load_image_file(image_path)\n",
    "face_locations = face_recognition.face_locations(image)\n",
    "face_encodings = face_recognition.face_encodings(image, face_locations)\n",
    "\n",
    "video_directory = \"/Users/j/Documents/ASAP_V\"\n",
    "matched_videos = find_matching_videos(video_directory, face_encodings)\n",
    "print(\"Matched Videos:\", matched_videos)\n"
   ]
  }
 ],
 "metadata": {
  "kernelspec": {
   "display_name": "Python 3 (ipykernel)",
   "language": "python",
   "name": "python3"
  },
  "language_info": {
   "codemirror_mode": {
    "name": "ipython",
    "version": 3
   },
   "file_extension": ".py",
   "mimetype": "text/x-python",
   "name": "python",
   "nbconvert_exporter": "python",
   "pygments_lexer": "ipython3",
   "version": "3.11.7"
  }
 },
 "nbformat": 4,
 "nbformat_minor": 2
}
